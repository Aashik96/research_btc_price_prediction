{
 "cells": [
  {
   "cell_type": "code",
   "execution_count": 1,
   "metadata": {},
   "outputs": [],
   "source": [
    "import pandas as pd\n",
    "import numpy as np\n",
    "from nltk.corpus import stopwords\n",
    "from wordcloud import WordCloud\n",
    "import re\n",
    "import matplotlib.pyplot as plt\n",
    "import seaborn as sns\n",
    "import pickle\n",
    "%matplotlib inline\n",
    "from sklearn.metrics import confusion_matrix\n",
    "from sklearn.metrics import plot_confusion_matrix\n",
    "import re\n",
    "import nltk\n",
    "import string\n",
    "from nltk.tokenize import word_tokenize\n",
    "from nltk.corpus import stopwords\n",
    "from nltk.stem.porter import PorterStemmer\n",
    "from sklearn.feature_extraction.text import TfidfVectorizer\n",
    "from sklearn.model_selection import train_test_split\n",
    "from sklearn.svm import LinearSVC\n",
    "from sklearn.metrics import classification_report\n",
    "from sklearn.naive_bayes import MultinomialNB\n",
    "from sklearn.ensemble import RandomForestClassifier\n",
    "from sklearn.tree import DecisionTreeClassifier\n",
    "from sklearn import svm\n",
    "from sklearn.neighbors import KNeighborsClassifier\n",
    "from imblearn.under_sampling import NearMiss\n",
    "from imblearn.over_sampling import SMOTE"
   ]
  },
  {
   "cell_type": "code",
   "execution_count": 7,
   "metadata": {},
   "outputs": [
    {
     "name": "stderr",
     "output_type": "stream",
     "text": [
      "<ipython-input-7-25b99cc13e51>:2: FutureWarning: Passing a negative integer is deprecated in version 1.0 and will not be supported in future version. Instead, use None to not limit the column width.\n",
      "  pd.set_option('display.max_colwidth', -1)\n"
     ]
    },
    {
     "data": {
      "text/html": [
       "<div>\n",
       "<style scoped>\n",
       "    .dataframe tbody tr th:only-of-type {\n",
       "        vertical-align: middle;\n",
       "    }\n",
       "\n",
       "    .dataframe tbody tr th {\n",
       "        vertical-align: top;\n",
       "    }\n",
       "\n",
       "    .dataframe thead th {\n",
       "        text-align: right;\n",
       "    }\n",
       "</style>\n",
       "<table border=\"1\" class=\"dataframe\">\n",
       "  <thead>\n",
       "    <tr style=\"text-align: right;\">\n",
       "      <th></th>\n",
       "      <th>tweet</th>\n",
       "      <th>label</th>\n",
       "    </tr>\n",
       "  </thead>\n",
       "  <tbody>\n",
       "    <tr>\n",
       "      <th>0</th>\n",
       "      <td>RT @ALXTOKEN: Paul Krugman, Nobel Luddite. I had to tweak the nose of this Bitcoin enemy. He says such foolish things. Here's the link: htt…</td>\n",
       "      <td>['neutral']</td>\n",
       "    </tr>\n",
       "    <tr>\n",
       "      <th>1</th>\n",
       "      <td>@lopp @_Kevin_Pham @psycho_sage @naval But @ProfFaustus (dum b a ss) said you know nothing about #Bitcoin ... 😂😂😂 https://t.co/SBAMFQ2Yiy</td>\n",
       "      <td>['neutral']</td>\n",
       "    </tr>\n",
       "    <tr>\n",
       "      <th>2</th>\n",
       "      <td>RT @tippereconomy: Another use case for #blockchain and #Tipper. The #TipperEconomy  can unseat Facebook and change everything! ICO Live No…</td>\n",
       "      <td>['positive']</td>\n",
       "    </tr>\n",
       "    <tr>\n",
       "      <th>3</th>\n",
       "      <td>free coins https://t.co/DiuoePJdap</td>\n",
       "      <td>['positive']</td>\n",
       "    </tr>\n",
       "    <tr>\n",
       "      <th>4</th>\n",
       "      <td>RT @payvxofficial: WE are happy to announce that PayVX Presale Phase 1 is now LIVE!\\n\\nSign up --&amp;gt;&amp;gt; https://t.co/dhprzsSxek\\nCurrencies accept…</td>\n",
       "      <td>['positive']</td>\n",
       "    </tr>\n",
       "  </tbody>\n",
       "</table>\n",
       "</div>"
      ],
      "text/plain": [
       "                                                                                                                                                   tweet  \\\n",
       "0  RT @ALXTOKEN: Paul Krugman, Nobel Luddite. I had to tweak the nose of this Bitcoin enemy. He says such foolish things. Here's the link: htt…            \n",
       "1  @lopp @_Kevin_Pham @psycho_sage @naval But @ProfFaustus (dum b a ss) said you know nothing about #Bitcoin ... 😂😂😂 https://t.co/SBAMFQ2Yiy               \n",
       "2  RT @tippereconomy: Another use case for #blockchain and #Tipper. The #TipperEconomy  can unseat Facebook and change everything! ICO Live No…            \n",
       "3  free coins https://t.co/DiuoePJdap                                                                                                                      \n",
       "4  RT @payvxofficial: WE are happy to announce that PayVX Presale Phase 1 is now LIVE!\\n\\nSign up --&gt;&gt; https://t.co/dhprzsSxek\\nCurrencies accept…   \n",
       "\n",
       "          label  \n",
       "0  ['neutral']   \n",
       "1  ['neutral']   \n",
       "2  ['positive']  \n",
       "3  ['positive']  \n",
       "4  ['positive']  "
      ]
     },
     "execution_count": 7,
     "metadata": {},
     "output_type": "execute_result"
    }
   ],
   "source": [
    "tweets_df = pd.read_csv('bitcointweets.csv', header=None)\n",
    "pd.set_option('display.max_colwidth', -1)\n",
    "tweets_df = tweets_df[[1,7]]\n",
    "tweets_df.columns = ['tweet','label']\n",
    "tweets_df.head()"
   ]
  },
  {
   "cell_type": "code",
   "execution_count": 8,
   "metadata": {},
   "outputs": [],
   "source": [
    "def clean_text(df):\n",
    "    all_tweets = list()\n",
    "    lines = df[\"tweet\"].values.tolist()\n",
    "    for text in lines:\n",
    "        text = re.sub(r'@[A-Za-z0-9]+','',text)\n",
    "        text = re.sub(r'#','',text)\n",
    "        text = re.sub(r'RT[\\s]+','',text)\n",
    "        text = text.lower()\n",
    "        pattern = re.compile('http[s]?://(?:[a-zA-Z]|[0-9]|[$-_@.&+]|[!*\\(\\),]|(?:%[0-9a-fA-F][0-9a-fA-F]))+')\n",
    "        text = pattern.sub('', text)\n",
    "        text = re.sub(r\"[,.\\\"!@#$%^&*(){}?/;`~:<>+=-]\", \"\", text)\n",
    "        tokens = word_tokenize(text)\n",
    "        table = str.maketrans('', '', string.punctuation)\n",
    "        stripped = [w.translate(table) for w in tokens]\n",
    "        words = [word for word in stripped if word.isalpha()]\n",
    "        stop_words = set(stopwords.words(\"english\"))\n",
    "        stop_words.discard(\"not\")\n",
    "        PS = PorterStemmer()\n",
    "#         words = [w for w in words if not w in stop_words]\n",
    "        words = [PS.stem(w) for w in words if not w in stop_words]\n",
    "        words = ' '.join(words)\n",
    "        all_tweets.append(words)\n",
    "    return all_tweets"
   ]
  },
  {
   "cell_type": "code",
   "execution_count": 9,
   "metadata": {},
   "outputs": [
    {
     "data": {
      "text/plain": [
       "['paul krugman nobel luddit tweak nose bitcoin enemi say foolish thing link',\n",
       " 'kevinpham sage dum b ss said know noth bitcoin',\n",
       " 'anoth use case blockchain tipper tippereconomi unseat facebook chang everyth ico live',\n",
       " 'free coin',\n",
       " 'happi announc payvx presal phase live sign gtgt currenc',\n",
       " 'copi success trader automat bitcoin copi',\n",
       " 'reveal surpris tomorrow readi celebr us surpris present crypto bitcoin',\n",
       " 'one click start mine cryptocurr togeth peopl bitcoin paa cloudnetwork',\n",
       " 'first speaker get bitcoin greatest cash world medium exchang not',\n",
       " 'bitcoin nt built live exchang',\n",
       " 'buddi whatev seri diseas bannon clearli want bitcoin',\n",
       " 'ice agenc charg payza two canadian citizen bitcoin money launder regul aml arrest bitcoin',\n",
       " 'seen http protocol error page not found know develop protocol put',\n",
       " 'patienc truli virtu',\n",
       " 'bitcoinmonst bitcoin monster monster asset cryptocurr monster masternod support high reward',\n",
       " 'break steverichfxcorp news alert live latest news updat',\n",
       " 'month celebr major mileston project involv grow commun',\n",
       " 'copi success trader automat bitcoin copi',\n",
       " 'applicatur join ethereum enterpris allianc cryptocurr crypto bitcoin btc purecryptonew',\n",
       " 'token neolit airdrop follow retweet amp tag peopl comment address suppli token symbol nlt']"
      ]
     },
     "execution_count": 9,
     "metadata": {},
     "output_type": "execute_result"
    }
   ],
   "source": [
    "all_tweets = clean_text(tweets_df)\n",
    "all_tweets[0:20]"
   ]
  },
  {
   "cell_type": "code",
   "execution_count": 10,
   "metadata": {},
   "outputs": [
    {
     "name": "stdout",
     "output_type": "stream",
     "text": [
      "(50859, 2000)\n",
      "(50859,)\n"
     ]
    }
   ],
   "source": [
    "tfidf= TfidfVectorizer(max_features=2000,ngram_range=(1,3)) \n",
    "X = tfidf.fit_transform(all_tweets).toarray()\n",
    "y = tweets_df['label']\n",
    "print(np.shape(X))\n",
    "print(np.shape(y))"
   ]
  },
  {
   "cell_type": "code",
   "execution_count": 13,
   "metadata": {},
   "outputs": [],
   "source": [
    "nm = NearMiss()\n",
    "X_nm,y_nm = nm.fit_sample(X,y)"
   ]
  },
  {
   "cell_type": "code",
   "execution_count": 11,
   "metadata": {},
   "outputs": [],
   "source": [
    "sm = SMOTE(random_state = 2) \n",
    "X_sm,y_sm = sm.fit_sample(X, y);"
   ]
  },
  {
   "cell_type": "code",
   "execution_count": 14,
   "metadata": {},
   "outputs": [
    {
     "name": "stdout",
     "output_type": "stream",
     "text": [
      "              precision    recall  f1-score   support\n",
      "\n",
      "['negative']       0.92      0.72      0.81      1196\n",
      " ['neutral']       0.87      0.96      0.91      4333\n",
      "['positive']       0.95      0.91      0.93      4643\n",
      "\n",
      "    accuracy                           0.91     10172\n",
      "   macro avg       0.91      0.86      0.88     10172\n",
      "weighted avg       0.91      0.91      0.91     10172\n",
      "\n"
     ]
    }
   ],
   "source": [
    "X_train, X_test, y_train, y_test = train_test_split(X,y, test_size=0.2, random_state=0)\n",
    "linear_svc = LinearSVC()\n",
    "linear_svc.fit(X_train,y_train)\n",
    "y_pred = linear_svc.predict(X_test)\n",
    "print(classification_report(y_test,y_pred))"
   ]
  },
  {
   "cell_type": "code",
   "execution_count": 14,
   "metadata": {},
   "outputs": [
    {
     "name": "stdout",
     "output_type": "stream",
     "text": [
      "              precision    recall  f1-score   support\n",
      "\n",
      "['negative']       0.89      0.90      0.89      4625\n",
      " ['neutral']       0.85      0.90      0.88      4568\n",
      "['positive']       0.95      0.89      0.92      4570\n",
      "\n",
      "    accuracy                           0.90     13763\n",
      "   macro avg       0.90      0.90      0.90     13763\n",
      "weighted avg       0.90      0.90      0.90     13763\n",
      "\n"
     ]
    }
   ],
   "source": [
    "X_train, X_test, y_train, y_test = train_test_split(X_sm, y_sm, test_size=0.2, random_state=0)\n",
    "linear_svc = LinearSVC()\n",
    "linear_svc.fit(X_train,y_train)\n",
    "y_pred = linear_svc.predict(X_test)\n",
    "print(classification_report(y_test,y_pred))"
   ]
  },
  {
   "cell_type": "code",
   "execution_count": 15,
   "metadata": {},
   "outputs": [
    {
     "name": "stdout",
     "output_type": "stream",
     "text": [
      "              precision    recall  f1-score   support\n",
      "\n",
      "['negative']       0.88      0.61      0.72      1196\n",
      " ['neutral']       0.81      0.88      0.84      4333\n",
      "['positive']       0.86      0.86      0.86      4643\n",
      "\n",
      "    accuracy                           0.84     10172\n",
      "   macro avg       0.85      0.78      0.81     10172\n",
      "weighted avg       0.84      0.84      0.84     10172\n",
      "\n"
     ]
    }
   ],
   "source": [
    "X_train, X_test, y_train, y_test = train_test_split(X, y, test_size=0.2, random_state=0)\n",
    "model_naive = MultinomialNB()\n",
    "model_naive.fit(X_train,y_train)\n",
    "y_pred = model_naive.predict(X_test)\n",
    "print(classification_report(y_test,y_pred))"
   ]
  },
  {
   "cell_type": "code",
   "execution_count": 16,
   "metadata": {},
   "outputs": [
    {
     "name": "stdout",
     "output_type": "stream",
     "text": [
      "              precision    recall  f1-score   support\n",
      "\n",
      "['negative']       0.86      0.77      0.81      4625\n",
      " ['neutral']       0.75      0.85      0.80      4568\n",
      "['positive']       0.86      0.82      0.84      4570\n",
      "\n",
      "    accuracy                           0.82     13763\n",
      "   macro avg       0.82      0.82      0.82     13763\n",
      "weighted avg       0.82      0.82      0.82     13763\n",
      "\n"
     ]
    }
   ],
   "source": [
    "X_train, X_test, y_train, y_test = train_test_split(X_sm, y_sm, test_size=0.2, random_state=0)\n",
    "model_naive = MultinomialNB()\n",
    "model_naive.fit(X_train,y_train)\n",
    "y_pred = model_naive.predict(X_test)\n",
    "print(classification_report(y_test,y_pred))"
   ]
  },
  {
   "cell_type": "code",
   "execution_count": 16,
   "metadata": {},
   "outputs": [
    {
     "name": "stdout",
     "output_type": "stream",
     "text": [
      "              precision    recall  f1-score   support\n",
      "\n",
      "['negative']       0.96      0.82      0.89      1196\n",
      " ['neutral']       0.92      0.98      0.95      4333\n",
      "['positive']       0.97      0.95      0.96      4643\n",
      "\n",
      "    accuracy                           0.95     10172\n",
      "   macro avg       0.95      0.92      0.93     10172\n",
      "weighted avg       0.95      0.95      0.95     10172\n",
      "\n"
     ]
    }
   ],
   "source": [
    "X_train, X_test, y_train, y_test = train_test_split(X, y, test_size=0.2, random_state=0)\n",
    "rfc = RandomForestClassifier(n_estimators=100)\n",
    "rfc.fit(X_train,y_train)\n",
    "y_pred = rfc.predict(X_test)\n",
    "print(classification_report(y_test,y_pred))"
   ]
  },
  {
   "cell_type": "code",
   "execution_count": 18,
   "metadata": {},
   "outputs": [
    {
     "name": "stdout",
     "output_type": "stream",
     "text": [
      "              precision    recall  f1-score   support\n",
      "\n",
      "['negative']       0.97      0.96      0.97      4625\n",
      " ['neutral']       0.92      0.97      0.95      4568\n",
      "['positive']       0.98      0.94      0.96      4570\n",
      "\n",
      "    accuracy                           0.96     13763\n",
      "   macro avg       0.96      0.96      0.96     13763\n",
      "weighted avg       0.96      0.96      0.96     13763\n",
      "\n"
     ]
    }
   ],
   "source": [
    "X_train, X_test, y_train, y_test = train_test_split(X_sm, y_sm, test_size=0.2, random_state=0)\n",
    "rfc = RandomForestClassifier(n_estimators=100)\n",
    "rfc.fit(X_train,y_train)\n",
    "y_pred = rfc.predict(X_test)\n",
    "print(classification_report(y_test,y_pred))"
   ]
  },
  {
   "cell_type": "code",
   "execution_count": 17,
   "metadata": {},
   "outputs": [
    {
     "name": "stdout",
     "output_type": "stream",
     "text": [
      "              precision    recall  f1-score   support\n",
      "\n",
      "['negative']       0.87      0.84      0.86      1155\n",
      " ['neutral']       0.93      0.95      0.94      4388\n",
      "['positive']       0.95      0.95      0.95      4629\n",
      "\n",
      "    accuracy                           0.93     10172\n",
      "   macro avg       0.92      0.91      0.92     10172\n",
      "weighted avg       0.93      0.93      0.93     10172\n",
      "\n"
     ]
    }
   ],
   "source": [
    "X_train, X_test, y_train, y_test = train_test_split(X, y, test_size=0.2, random_state=1) \n",
    "dtc = DecisionTreeClassifier()\n",
    "dtc = dtc.fit(X_train,y_train)\n",
    "y_pred = dtc.predict(X_test)\n",
    "print(classification_report(y_test,y_pred))"
   ]
  },
  {
   "cell_type": "code",
   "execution_count": 20,
   "metadata": {},
   "outputs": [
    {
     "name": "stdout",
     "output_type": "stream",
     "text": [
      "              precision    recall  f1-score   support\n",
      "\n",
      "['negative']       0.95      0.95      0.95      4521\n",
      " ['neutral']       0.92      0.94      0.93      4545\n",
      "['positive']       0.96      0.93      0.95      4697\n",
      "\n",
      "    accuracy                           0.94     13763\n",
      "   macro avg       0.94      0.94      0.94     13763\n",
      "weighted avg       0.94      0.94      0.94     13763\n",
      "\n"
     ]
    }
   ],
   "source": [
    "X_train, X_test, y_train, y_test = train_test_split(X_sm, y_sm, test_size=0.2, random_state=1) \n",
    "dtc = DecisionTreeClassifier()\n",
    "dtc = dtc.fit(X_train,y_train)\n",
    "y_pred = dtc.predict(X_test)\n",
    "print(classification_report(y_test,y_pred))"
   ]
  },
  {
   "cell_type": "code",
   "execution_count": 21,
   "metadata": {},
   "outputs": [
    {
     "name": "stdout",
     "output_type": "stream",
     "text": [
      "              precision    recall  f1-score   support\n",
      "\n",
      "['negative']       0.93      0.83      0.88      1206\n",
      " ['neutral']       0.81      0.94      0.87      1191\n",
      "['positive']       0.91      0.87      0.89      1193\n",
      "\n",
      "    accuracy                           0.88      3590\n",
      "   macro avg       0.88      0.88      0.88      3590\n",
      "weighted avg       0.88      0.88      0.88      3590\n",
      "\n"
     ]
    }
   ],
   "source": [
    "X_train, X_test, y_train, y_test = train_test_split(X_nm, y_nm, test_size=0.2, random_state=1)\n",
    "svm_svc = svm.SVC(kernel='rbf') \n",
    "svm_svc.fit(X_train, y_train)\n",
    "y_pred = svm_svc.predict(X_test)\n",
    "print(classification_report(y_test,y_pred))"
   ]
  },
  {
   "cell_type": "code",
   "execution_count": null,
   "metadata": {},
   "outputs": [],
   "source": [
    "X_train, X_test, y_train, y_test = train_test_split(X_sm, y_sm, test_size=0.2, random_state=1)\n",
    "svm_svc = svm.SVC(kernel='rbf') \n",
    "svm_svc.fit(X_train, y_train)\n",
    "y_pred = svm_svc.predict(X_test)\n",
    "print(classification_report(y_test,y_pred))"
   ]
  },
  {
   "cell_type": "code",
   "execution_count": 18,
   "metadata": {},
   "outputs": [
    {
     "name": "stdout",
     "output_type": "stream",
     "text": [
      "              precision    recall  f1-score   support\n",
      "\n",
      "['negative']       0.88      0.77      0.82      1155\n",
      " ['neutral']       0.82      0.95      0.88      4388\n",
      "['positive']       0.95      0.83      0.89      4629\n",
      "\n",
      "    accuracy                           0.88     10172\n",
      "   macro avg       0.88      0.85      0.86     10172\n",
      "weighted avg       0.89      0.88      0.88     10172\n",
      "\n"
     ]
    }
   ],
   "source": [
    "X_train, X_test, y_train, y_test = train_test_split(X,y, test_size=0.2, random_state=1)\n",
    "knn = KNeighborsClassifier(n_neighbors=5)\n",
    "knn.fit(X_train, y_train)\n",
    "y_pred = knn.predict(X_test)\n",
    "print(classification_report(y_test,y_pred))"
   ]
  },
  {
   "cell_type": "code",
   "execution_count": 17,
   "metadata": {},
   "outputs": [
    {
     "name": "stdout",
     "output_type": "stream",
     "text": [
      "              precision    recall  f1-score   support\n",
      "\n",
      "['negative']       0.78      0.98      0.87      4521\n",
      " ['neutral']       0.91      0.85      0.88      4545\n",
      "['positive']       0.97      0.79      0.87      4697\n",
      "\n",
      "    accuracy                           0.87     13763\n",
      "   macro avg       0.89      0.87      0.87     13763\n",
      "weighted avg       0.89      0.87      0.87     13763\n",
      "\n"
     ]
    }
   ],
   "source": [
    "X_train, X_test, y_train, y_test = train_test_split(X_sm, y_sm, test_size=0.2, random_state=1)\n",
    "knn = KNeighborsClassifier(n_neighbors=5)\n",
    "knn.fit(X_train, y_train)\n",
    "y_pred = knn.predict(X_test)\n",
    "print(classification_report(y_test,y_pred))"
   ]
  },
  {
   "cell_type": "code",
   "execution_count": 5,
   "metadata": {},
   "outputs": [
    {
     "name": "stderr",
     "output_type": "stream",
     "text": [
      "C:\\ProgramData\\Anaconda3\\envs\\research-test\\lib\\site-packages\\seaborn\\_decorators.py:36: FutureWarning: Pass the following variable as a keyword arg: x. From version 0.12, the only valid positional argument will be `data`, and passing other arguments without an explicit keyword will result in an error or misinterpretation.\n",
      "  warnings.warn(\n"
     ]
    },
    {
     "data": {
      "text/plain": [
       "<AxesSubplot:xlabel='label', ylabel='count'>"
      ]
     },
     "execution_count": 5,
     "metadata": {},
     "output_type": "execute_result"
    },
    {
     "data": {
      "image/png": "[encoded data removed]",
      "text/plain": [
       "<Figure size 432x288 with 1 Axes>"
      ]
     },
     "metadata": {
      "needs_background": "light"
     },
     "output_type": "display_data"
    }
   ],
   "source": [
    "sns.countplot(tweets_df['label'])"
   ]
  },
  {
   "cell_type": "code",
   "execution_count": 14,
   "metadata": {},
   "outputs": [
    {
     "name": "stderr",
     "output_type": "stream",
     "text": [
      "C:\\ProgramData\\Anaconda3\\envs\\research-test\\lib\\site-packages\\seaborn\\_decorators.py:36: FutureWarning: Pass the following variable as a keyword arg: x. From version 0.12, the only valid positional argument will be `data`, and passing other arguments without an explicit keyword will result in an error or misinterpretation.\n",
      "  warnings.warn(\n"
     ]
    },
    {
     "data": {
      "text/plain": [
       "<AxesSubplot:xlabel='label', ylabel='count'>"
      ]
     },
     "execution_count": 14,
     "metadata": {},
     "output_type": "execute_result"
    },
    {
     "data": {
      "image/png": "[encoded data removed]",
      "text/plain": [
       "<Figure size 432x288 with 1 Axes>"
      ]
     },
     "metadata": {
      "needs_background": "light"
     },
     "output_type": "display_data"
    }
   ],
   "source": [
    "sns.countplot(y_nm)"
   ]
  },
  {
   "cell_type": "code",
   "execution_count": null,
   "metadata": {},
   "outputs": [],
   "source": []
  }
 ],
 "metadata": {
  "kernelspec": {
   "display_name": "Python 3",
   "language": "python",
   "name": "python3"
  },
  "language_info": {
   "codemirror_mode": {
    "name": "ipython",
    "version": 3
   },
   "file_extension": ".py",
   "mimetype": "text/x-python",
   "name": "python",
   "nbconvert_exporter": "python",
   "pygments_lexer": "ipython3",
   "version": "3.8.8"
  }
 },
 "nbformat": 4,
 "nbformat_minor": 4
}
