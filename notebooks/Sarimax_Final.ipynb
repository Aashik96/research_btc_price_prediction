{
 "cells": [
  {
   "cell_type": "code",
   "execution_count": 1,
   "metadata": {},
   "outputs": [],
   "source": [
    "import pandas as pd\n",
    "from statsmodels.tsa.statespace.sarimax import SARIMAX\n",
    "import matplotlib.pyplot as plt\n",
    "import numpy as np\n",
    "%matplotlib inline\n",
    "from sklearn.metrics import mean_absolute_error\n",
    "from math import sqrt"
   ]
  },
  {
   "cell_type": "code",
   "execution_count": 54,
   "metadata": {},
   "outputs": [],
   "source": [
    "bitcoin_data_df = pd.read_csv('bitcoin_final_data_2.csv',index_col=0)"
   ]
  },
  {
   "cell_type": "code",
   "execution_count": 55,
   "metadata": {},
   "outputs": [],
   "source": [
    "bitcoin_roll_price_df = pd.read_csv('rolling_mean_prc.csv',index_col=0)"
   ]
  },
  {
   "cell_type": "code",
   "execution_count": 56,
   "metadata": {},
   "outputs": [],
   "source": [
    "final_df = pd.merge(bitcoin_data_df,bitcoin_roll_price_df,how='inner',left_index=True,right_index=True)"
   ]
  },
  {
   "cell_type": "code",
   "execution_count": 57,
   "metadata": {},
   "outputs": [
    {
     "data": {
      "text/html": [
       "<div>\n",
       "<style scoped>\n",
       "    .dataframe tbody tr th:only-of-type {\n",
       "        vertical-align: middle;\n",
       "    }\n",
       "\n",
       "    .dataframe tbody tr th {\n",
       "        vertical-align: top;\n",
       "    }\n",
       "\n",
       "    .dataframe thead th {\n",
       "        text-align: right;\n",
       "    }\n",
       "</style>\n",
       "<table border=\"1\" class=\"dataframe\">\n",
       "  <thead>\n",
       "    <tr style=\"text-align: right;\">\n",
       "      <th></th>\n",
       "      <th>Open Price</th>\n",
       "      <th>Close Price</th>\n",
       "      <th>High Price</th>\n",
       "      <th>Low Price</th>\n",
       "      <th>Positive Count</th>\n",
       "      <th>Neutral Count</th>\n",
       "      <th>Negative Count</th>\n",
       "      <th>Total Count</th>\n",
       "      <th>Positive Percentage</th>\n",
       "      <th>Neutral Percentage</th>\n",
       "      <th>Negative Percentage</th>\n",
       "      <th>Search Interest</th>\n",
       "      <th>Roll Mean High Price</th>\n",
       "    </tr>\n",
       "    <tr>\n",
       "      <th>Date</th>\n",
       "      <th></th>\n",
       "      <th></th>\n",
       "      <th></th>\n",
       "      <th></th>\n",
       "      <th></th>\n",
       "      <th></th>\n",
       "      <th></th>\n",
       "      <th></th>\n",
       "      <th></th>\n",
       "      <th></th>\n",
       "      <th></th>\n",
       "      <th></th>\n",
       "      <th></th>\n",
       "    </tr>\n",
       "  </thead>\n",
       "  <tbody>\n",
       "    <tr>\n",
       "      <th>2018-03-07</th>\n",
       "      <td>10803.900391</td>\n",
       "      <td>9965.570313</td>\n",
       "      <td>10929.500000</td>\n",
       "      <td>9692.120117</td>\n",
       "      <td>7550</td>\n",
       "      <td>19300</td>\n",
       "      <td>1063</td>\n",
       "      <td>27913</td>\n",
       "      <td>27.048329</td>\n",
       "      <td>69.143410</td>\n",
       "      <td>3.808261</td>\n",
       "      <td>15.81</td>\n",
       "      <td>11345.114118</td>\n",
       "    </tr>\n",
       "    <tr>\n",
       "      <th>2018-03-08</th>\n",
       "      <td>9951.440430</td>\n",
       "      <td>9395.009766</td>\n",
       "      <td>10147.400391</td>\n",
       "      <td>9335.870117</td>\n",
       "      <td>1710</td>\n",
       "      <td>4650</td>\n",
       "      <td>229</td>\n",
       "      <td>6589</td>\n",
       "      <td>25.952345</td>\n",
       "      <td>70.572166</td>\n",
       "      <td>3.475489</td>\n",
       "      <td>14.62</td>\n",
       "      <td>11215.842773</td>\n",
       "    </tr>\n",
       "    <tr>\n",
       "      <th>2018-03-09</th>\n",
       "      <td>9414.690430</td>\n",
       "      <td>9337.549805</td>\n",
       "      <td>9466.349609</td>\n",
       "      <td>8513.030273</td>\n",
       "      <td>6933</td>\n",
       "      <td>18847</td>\n",
       "      <td>974</td>\n",
       "      <td>26754</td>\n",
       "      <td>25.913882</td>\n",
       "      <td>70.445541</td>\n",
       "      <td>3.640577</td>\n",
       "      <td>16.66</td>\n",
       "      <td>10969.749860</td>\n",
       "    </tr>\n",
       "    <tr>\n",
       "      <th>2018-03-10</th>\n",
       "      <td>9350.589844</td>\n",
       "      <td>8866.000000</td>\n",
       "      <td>9531.320313</td>\n",
       "      <td>8828.469727</td>\n",
       "      <td>6116</td>\n",
       "      <td>15344</td>\n",
       "      <td>819</td>\n",
       "      <td>22279</td>\n",
       "      <td>27.451860</td>\n",
       "      <td>68.872032</td>\n",
       "      <td>3.676108</td>\n",
       "      <td>11.90</td>\n",
       "      <td>10684.481306</td>\n",
       "    </tr>\n",
       "    <tr>\n",
       "      <th>2018-03-11</th>\n",
       "      <td>8852.780273</td>\n",
       "      <td>9578.629883</td>\n",
       "      <td>9711.889648</td>\n",
       "      <td>8607.120117</td>\n",
       "      <td>6060</td>\n",
       "      <td>14826</td>\n",
       "      <td>787</td>\n",
       "      <td>21673</td>\n",
       "      <td>27.961058</td>\n",
       "      <td>68.407696</td>\n",
       "      <td>3.631246</td>\n",
       "      <td>11.73</td>\n",
       "      <td>10427.237026</td>\n",
       "    </tr>\n",
       "  </tbody>\n",
       "</table>\n",
       "</div>"
      ],
      "text/plain": [
       "              Open Price  Close Price    High Price    Low Price  \\\n",
       "Date                                                               \n",
       "2018-03-07  10803.900391  9965.570313  10929.500000  9692.120117   \n",
       "2018-03-08   9951.440430  9395.009766  10147.400391  9335.870117   \n",
       "2018-03-09   9414.690430  9337.549805   9466.349609  8513.030273   \n",
       "2018-03-10   9350.589844  8866.000000   9531.320313  8828.469727   \n",
       "2018-03-11   8852.780273  9578.629883   9711.889648  8607.120117   \n",
       "\n",
       "            Positive Count  Neutral Count  Negative Count  Total Count  \\\n",
       "Date                                                                     \n",
       "2018-03-07            7550          19300            1063        27913   \n",
       "2018-03-08            1710           4650             229         6589   \n",
       "2018-03-09            6933          18847             974        26754   \n",
       "2018-03-10            6116          15344             819        22279   \n",
       "2018-03-11            6060          14826             787        21673   \n",
       "\n",
       "            Positive Percentage  Neutral Percentage  Negative Percentage  \\\n",
       "Date                                                                       \n",
       "2018-03-07            27.048329           69.143410             3.808261   \n",
       "2018-03-08            25.952345           70.572166             3.475489   \n",
       "2018-03-09            25.913882           70.445541             3.640577   \n",
       "2018-03-10            27.451860           68.872032             3.676108   \n",
       "2018-03-11            27.961058           68.407696             3.631246   \n",
       "\n",
       "            Search Interest  Roll Mean High Price  \n",
       "Date                                               \n",
       "2018-03-07            15.81          11345.114118  \n",
       "2018-03-08            14.62          11215.842773  \n",
       "2018-03-09            16.66          10969.749860  \n",
       "2018-03-10            11.90          10684.481306  \n",
       "2018-03-11            11.73          10427.237026  "
      ]
     },
     "execution_count": 57,
     "metadata": {},
     "output_type": "execute_result"
    }
   ],
   "source": [
    "final_df.tail()"
   ]
  },
  {
   "cell_type": "code",
   "execution_count": 58,
   "metadata": {},
   "outputs": [],
   "source": [
    "final_df = final_df[['Positive Count','Negative Count','Neutral Count','Search Interest','Roll Mean High Price']]"
   ]
  },
  {
   "cell_type": "code",
   "execution_count": 59,
   "metadata": {},
   "outputs": [],
   "source": [
    "def series_to_supervised(data, n_in=1, n_out=1, dropnan=True):\n",
    "    n_vars = 1 if type(data) is list else data.shape[1]\n",
    "    dff = pd.DataFrame(data)\n",
    "    cols, names = list(), list()\n",
    "    # input sequence (t-n, ... t-1)\n",
    "    for i in range(n_in, 0, -1):\n",
    "        cols.append(dff.shift(i))\n",
    "        names += [('var%d(t-%d)' % (j+1, i)) for j in range(n_vars)]\n",
    "    # forecast sequence (t, t+1, ... t+n)\n",
    "    for i in range(0, n_out):\n",
    "        cols.append(dff.shift(-i))\n",
    "        if i == 0:\n",
    "            names += [('var%d(t)' % (j+1)) for j in range(n_vars)]\n",
    "        else:\n",
    "            names += [('var%d(t+%d)' % (j+1, i)) for j in range(n_vars)]\n",
    "    # put it all together\n",
    "    agg = pd.concat(cols, axis=1)\n",
    "    agg.columns = names\n",
    "    # drop rows with NaN values\n",
    "    if dropnan:\n",
    "        agg.dropna(inplace=True)\n",
    "    return agg"
   ]
  },
  {
   "cell_type": "code",
   "execution_count": 60,
   "metadata": {},
   "outputs": [
    {
     "data": {
      "text/html": [
       "<div>\n",
       "<style scoped>\n",
       "    .dataframe tbody tr th:only-of-type {\n",
       "        vertical-align: middle;\n",
       "    }\n",
       "\n",
       "    .dataframe tbody tr th {\n",
       "        vertical-align: top;\n",
       "    }\n",
       "\n",
       "    .dataframe thead th {\n",
       "        text-align: right;\n",
       "    }\n",
       "</style>\n",
       "<table border=\"1\" class=\"dataframe\">\n",
       "  <thead>\n",
       "    <tr style=\"text-align: right;\">\n",
       "      <th></th>\n",
       "      <th>Positive Count</th>\n",
       "      <th>Negative Count</th>\n",
       "      <th>Neutral Count</th>\n",
       "      <th>Search Interest</th>\n",
       "      <th>Roll Mean High Price</th>\n",
       "    </tr>\n",
       "    <tr>\n",
       "      <th>Date</th>\n",
       "      <th></th>\n",
       "      <th></th>\n",
       "      <th></th>\n",
       "      <th></th>\n",
       "      <th></th>\n",
       "    </tr>\n",
       "  </thead>\n",
       "  <tbody>\n",
       "    <tr>\n",
       "      <th>2017-01-01</th>\n",
       "      <td>1630</td>\n",
       "      <td>160</td>\n",
       "      <td>3410</td>\n",
       "      <td>2.64</td>\n",
       "      <td>963.986851</td>\n",
       "    </tr>\n",
       "    <tr>\n",
       "      <th>2017-01-02</th>\n",
       "      <td>2918</td>\n",
       "      <td>201</td>\n",
       "      <td>6669</td>\n",
       "      <td>4.86</td>\n",
       "      <td>980.873422</td>\n",
       "    </tr>\n",
       "    <tr>\n",
       "      <th>2017-01-03</th>\n",
       "      <td>3300</td>\n",
       "      <td>188</td>\n",
       "      <td>7648</td>\n",
       "      <td>4.44</td>\n",
       "      <td>995.735134</td>\n",
       "    </tr>\n",
       "    <tr>\n",
       "      <th>2017-01-04</th>\n",
       "      <td>861</td>\n",
       "      <td>65</td>\n",
       "      <td>1981</td>\n",
       "      <td>4.98</td>\n",
       "      <td>1021.949280</td>\n",
       "    </tr>\n",
       "    <tr>\n",
       "      <th>2017-01-05</th>\n",
       "      <td>2554</td>\n",
       "      <td>218</td>\n",
       "      <td>5795</td>\n",
       "      <td>6.00</td>\n",
       "      <td>1052.192566</td>\n",
       "    </tr>\n",
       "  </tbody>\n",
       "</table>\n",
       "</div>"
      ],
      "text/plain": [
       "            Positive Count  Negative Count  Neutral Count  Search Interest  \\\n",
       "Date                                                                         \n",
       "2017-01-01            1630             160           3410             2.64   \n",
       "2017-01-02            2918             201           6669             4.86   \n",
       "2017-01-03            3300             188           7648             4.44   \n",
       "2017-01-04             861              65           1981             4.98   \n",
       "2017-01-05            2554             218           5795             6.00   \n",
       "\n",
       "            Roll Mean High Price  \n",
       "Date                              \n",
       "2017-01-01            963.986851  \n",
       "2017-01-02            980.873422  \n",
       "2017-01-03            995.735134  \n",
       "2017-01-04           1021.949280  \n",
       "2017-01-05           1052.192566  "
      ]
     },
     "execution_count": 60,
     "metadata": {},
     "output_type": "execute_result"
    }
   ],
   "source": [
    "final_df.head()"
   ]
  },
  {
   "cell_type": "code",
   "execution_count": 61,
   "metadata": {},
   "outputs": [
    {
     "data": {
      "text/html": [
       "<div>\n",
       "<style scoped>\n",
       "    .dataframe tbody tr th:only-of-type {\n",
       "        vertical-align: middle;\n",
       "    }\n",
       "\n",
       "    .dataframe tbody tr th {\n",
       "        vertical-align: top;\n",
       "    }\n",
       "\n",
       "    .dataframe thead th {\n",
       "        text-align: right;\n",
       "    }\n",
       "</style>\n",
       "<table border=\"1\" class=\"dataframe\">\n",
       "  <thead>\n",
       "    <tr style=\"text-align: right;\">\n",
       "      <th></th>\n",
       "      <th>Positive Count</th>\n",
       "      <th>Negative Count</th>\n",
       "      <th>Neutral Count</th>\n",
       "      <th>Search Interest</th>\n",
       "      <th>Roll Mean High Price</th>\n",
       "    </tr>\n",
       "    <tr>\n",
       "      <th>Date</th>\n",
       "      <th></th>\n",
       "      <th></th>\n",
       "      <th></th>\n",
       "      <th></th>\n",
       "      <th></th>\n",
       "    </tr>\n",
       "  </thead>\n",
       "  <tbody>\n",
       "    <tr>\n",
       "      <th>2018-03-07</th>\n",
       "      <td>7550</td>\n",
       "      <td>1063</td>\n",
       "      <td>19300</td>\n",
       "      <td>15.81</td>\n",
       "      <td>11345.114118</td>\n",
       "    </tr>\n",
       "    <tr>\n",
       "      <th>2018-03-08</th>\n",
       "      <td>1710</td>\n",
       "      <td>229</td>\n",
       "      <td>4650</td>\n",
       "      <td>14.62</td>\n",
       "      <td>11215.842773</td>\n",
       "    </tr>\n",
       "    <tr>\n",
       "      <th>2018-03-09</th>\n",
       "      <td>6933</td>\n",
       "      <td>974</td>\n",
       "      <td>18847</td>\n",
       "      <td>16.66</td>\n",
       "      <td>10969.749860</td>\n",
       "    </tr>\n",
       "    <tr>\n",
       "      <th>2018-03-10</th>\n",
       "      <td>6116</td>\n",
       "      <td>819</td>\n",
       "      <td>15344</td>\n",
       "      <td>11.90</td>\n",
       "      <td>10684.481306</td>\n",
       "    </tr>\n",
       "    <tr>\n",
       "      <th>2018-03-11</th>\n",
       "      <td>6060</td>\n",
       "      <td>787</td>\n",
       "      <td>14826</td>\n",
       "      <td>11.73</td>\n",
       "      <td>10427.237026</td>\n",
       "    </tr>\n",
       "  </tbody>\n",
       "</table>\n",
       "</div>"
      ],
      "text/plain": [
       "            Positive Count  Negative Count  Neutral Count  Search Interest  \\\n",
       "Date                                                                         \n",
       "2018-03-07            7550            1063          19300            15.81   \n",
       "2018-03-08            1710             229           4650            14.62   \n",
       "2018-03-09            6933             974          18847            16.66   \n",
       "2018-03-10            6116             819          15344            11.90   \n",
       "2018-03-11            6060             787          14826            11.73   \n",
       "\n",
       "            Roll Mean High Price  \n",
       "Date                              \n",
       "2018-03-07          11345.114118  \n",
       "2018-03-08          11215.842773  \n",
       "2018-03-09          10969.749860  \n",
       "2018-03-10          10684.481306  \n",
       "2018-03-11          10427.237026  "
      ]
     },
     "execution_count": 61,
     "metadata": {},
     "output_type": "execute_result"
    }
   ],
   "source": [
    "final_df.tail()"
   ]
  },
  {
   "cell_type": "code",
   "execution_count": 62,
   "metadata": {},
   "outputs": [],
   "source": [
    "final_df['Positive Count(t-1)'] = final_df['Positive Count'].shift(1)\n",
    "final_df['Negative Count(t-1)'] = final_df['Negative Count'].shift(1)\n",
    "final_df['Neutral Count(t-1)'] = final_df['Neutral Count'].shift(1)\n",
    "final_df['Search Interest(t-1)'] = final_df['Search Interest'].shift(1)\n",
    "final_df['Roll Mean High Price(t-1)'] = final_df['Roll Mean High Price'].shift(1)"
   ]
  },
  {
   "cell_type": "code",
   "execution_count": 63,
   "metadata": {},
   "outputs": [
    {
     "data": {
      "text/html": [
       "<div>\n",
       "<style scoped>\n",
       "    .dataframe tbody tr th:only-of-type {\n",
       "        vertical-align: middle;\n",
       "    }\n",
       "\n",
       "    .dataframe tbody tr th {\n",
       "        vertical-align: top;\n",
       "    }\n",
       "\n",
       "    .dataframe thead th {\n",
       "        text-align: right;\n",
       "    }\n",
       "</style>\n",
       "<table border=\"1\" class=\"dataframe\">\n",
       "  <thead>\n",
       "    <tr style=\"text-align: right;\">\n",
       "      <th></th>\n",
       "      <th>Positive Count</th>\n",
       "      <th>Negative Count</th>\n",
       "      <th>Neutral Count</th>\n",
       "      <th>Search Interest</th>\n",
       "      <th>Roll Mean High Price</th>\n",
       "      <th>Positive Count(t-1)</th>\n",
       "      <th>Negative Count(t-1)</th>\n",
       "      <th>Neutral Count(t-1)</th>\n",
       "      <th>Search Interest(t-1)</th>\n",
       "      <th>Roll Mean High Price(t-1)</th>\n",
       "    </tr>\n",
       "    <tr>\n",
       "      <th>Date</th>\n",
       "      <th></th>\n",
       "      <th></th>\n",
       "      <th></th>\n",
       "      <th></th>\n",
       "      <th></th>\n",
       "      <th></th>\n",
       "      <th></th>\n",
       "      <th></th>\n",
       "      <th></th>\n",
       "      <th></th>\n",
       "    </tr>\n",
       "  </thead>\n",
       "  <tbody>\n",
       "    <tr>\n",
       "      <th>2017-01-01</th>\n",
       "      <td>1630</td>\n",
       "      <td>160</td>\n",
       "      <td>3410</td>\n",
       "      <td>2.64</td>\n",
       "      <td>963.986851</td>\n",
       "      <td>NaN</td>\n",
       "      <td>NaN</td>\n",
       "      <td>NaN</td>\n",
       "      <td>NaN</td>\n",
       "      <td>NaN</td>\n",
       "    </tr>\n",
       "    <tr>\n",
       "      <th>2017-01-02</th>\n",
       "      <td>2918</td>\n",
       "      <td>201</td>\n",
       "      <td>6669</td>\n",
       "      <td>4.86</td>\n",
       "      <td>980.873422</td>\n",
       "      <td>1630.0</td>\n",
       "      <td>160.0</td>\n",
       "      <td>3410.0</td>\n",
       "      <td>2.64</td>\n",
       "      <td>963.986851</td>\n",
       "    </tr>\n",
       "    <tr>\n",
       "      <th>2017-01-03</th>\n",
       "      <td>3300</td>\n",
       "      <td>188</td>\n",
       "      <td>7648</td>\n",
       "      <td>4.44</td>\n",
       "      <td>995.735134</td>\n",
       "      <td>2918.0</td>\n",
       "      <td>201.0</td>\n",
       "      <td>6669.0</td>\n",
       "      <td>4.86</td>\n",
       "      <td>980.873422</td>\n",
       "    </tr>\n",
       "    <tr>\n",
       "      <th>2017-01-04</th>\n",
       "      <td>861</td>\n",
       "      <td>65</td>\n",
       "      <td>1981</td>\n",
       "      <td>4.98</td>\n",
       "      <td>1021.949280</td>\n",
       "      <td>3300.0</td>\n",
       "      <td>188.0</td>\n",
       "      <td>7648.0</td>\n",
       "      <td>4.44</td>\n",
       "      <td>995.735134</td>\n",
       "    </tr>\n",
       "    <tr>\n",
       "      <th>2017-01-05</th>\n",
       "      <td>2554</td>\n",
       "      <td>218</td>\n",
       "      <td>5795</td>\n",
       "      <td>6.00</td>\n",
       "      <td>1052.192566</td>\n",
       "      <td>861.0</td>\n",
       "      <td>65.0</td>\n",
       "      <td>1981.0</td>\n",
       "      <td>4.98</td>\n",
       "      <td>1021.949280</td>\n",
       "    </tr>\n",
       "  </tbody>\n",
       "</table>\n",
       "</div>"
      ],
      "text/plain": [
       "            Positive Count  Negative Count  Neutral Count  Search Interest  \\\n",
       "Date                                                                         \n",
       "2017-01-01            1630             160           3410             2.64   \n",
       "2017-01-02            2918             201           6669             4.86   \n",
       "2017-01-03            3300             188           7648             4.44   \n",
       "2017-01-04             861              65           1981             4.98   \n",
       "2017-01-05            2554             218           5795             6.00   \n",
       "\n",
       "            Roll Mean High Price  Positive Count(t-1)  Negative Count(t-1)  \\\n",
       "Date                                                                         \n",
       "2017-01-01            963.986851                  NaN                  NaN   \n",
       "2017-01-02            980.873422               1630.0                160.0   \n",
       "2017-01-03            995.735134               2918.0                201.0   \n",
       "2017-01-04           1021.949280               3300.0                188.0   \n",
       "2017-01-05           1052.192566                861.0                 65.0   \n",
       "\n",
       "            Neutral Count(t-1)  Search Interest(t-1)  \\\n",
       "Date                                                   \n",
       "2017-01-01                 NaN                   NaN   \n",
       "2017-01-02              3410.0                  2.64   \n",
       "2017-01-03              6669.0                  4.86   \n",
       "2017-01-04              7648.0                  4.44   \n",
       "2017-01-05              1981.0                  4.98   \n",
       "\n",
       "            Roll Mean High Price(t-1)  \n",
       "Date                                   \n",
       "2017-01-01                        NaN  \n",
       "2017-01-02                 963.986851  \n",
       "2017-01-03                 980.873422  \n",
       "2017-01-04                 995.735134  \n",
       "2017-01-05                1021.949280  "
      ]
     },
     "execution_count": 63,
     "metadata": {},
     "output_type": "execute_result"
    }
   ],
   "source": [
    "final_df.head()"
   ]
  },
  {
   "cell_type": "code",
   "execution_count": 64,
   "metadata": {},
   "outputs": [
    {
     "data": {
      "text/plain": [
       "Positive Count               0\n",
       "Negative Count               0\n",
       "Neutral Count                0\n",
       "Search Interest              0\n",
       "Roll Mean High Price         0\n",
       "Positive Count(t-1)          1\n",
       "Negative Count(t-1)          1\n",
       "Neutral Count(t-1)           1\n",
       "Search Interest(t-1)         1\n",
       "Roll Mean High Price(t-1)    1\n",
       "dtype: int64"
      ]
     },
     "execution_count": 64,
     "metadata": {},
     "output_type": "execute_result"
    }
   ],
   "source": [
    "final_df.isnull().sum(axis = 0)"
   ]
  },
  {
   "cell_type": "code",
   "execution_count": 65,
   "metadata": {},
   "outputs": [],
   "source": [
    "final_df = final_df.dropna()"
   ]
  },
  {
   "cell_type": "code",
   "execution_count": 66,
   "metadata": {},
   "outputs": [
    {
     "data": {
      "text/html": [
       "<div>\n",
       "<style scoped>\n",
       "    .dataframe tbody tr th:only-of-type {\n",
       "        vertical-align: middle;\n",
       "    }\n",
       "\n",
       "    .dataframe tbody tr th {\n",
       "        vertical-align: top;\n",
       "    }\n",
       "\n",
       "    .dataframe thead th {\n",
       "        text-align: right;\n",
       "    }\n",
       "</style>\n",
       "<table border=\"1\" class=\"dataframe\">\n",
       "  <thead>\n",
       "    <tr style=\"text-align: right;\">\n",
       "      <th></th>\n",
       "      <th>Positive Count</th>\n",
       "      <th>Negative Count</th>\n",
       "      <th>Neutral Count</th>\n",
       "      <th>Search Interest</th>\n",
       "      <th>Roll Mean High Price</th>\n",
       "      <th>Positive Count(t-1)</th>\n",
       "      <th>Negative Count(t-1)</th>\n",
       "      <th>Neutral Count(t-1)</th>\n",
       "      <th>Search Interest(t-1)</th>\n",
       "      <th>Roll Mean High Price(t-1)</th>\n",
       "    </tr>\n",
       "    <tr>\n",
       "      <th>Date</th>\n",
       "      <th></th>\n",
       "      <th></th>\n",
       "      <th></th>\n",
       "      <th></th>\n",
       "      <th></th>\n",
       "      <th></th>\n",
       "      <th></th>\n",
       "      <th></th>\n",
       "      <th></th>\n",
       "      <th></th>\n",
       "    </tr>\n",
       "  </thead>\n",
       "  <tbody>\n",
       "    <tr>\n",
       "      <th>2017-01-02</th>\n",
       "      <td>2918</td>\n",
       "      <td>201</td>\n",
       "      <td>6669</td>\n",
       "      <td>4.86</td>\n",
       "      <td>980.873422</td>\n",
       "      <td>1630.0</td>\n",
       "      <td>160.0</td>\n",
       "      <td>3410.0</td>\n",
       "      <td>2.64</td>\n",
       "      <td>963.986851</td>\n",
       "    </tr>\n",
       "    <tr>\n",
       "      <th>2017-01-03</th>\n",
       "      <td>3300</td>\n",
       "      <td>188</td>\n",
       "      <td>7648</td>\n",
       "      <td>4.44</td>\n",
       "      <td>995.735134</td>\n",
       "      <td>2918.0</td>\n",
       "      <td>201.0</td>\n",
       "      <td>6669.0</td>\n",
       "      <td>4.86</td>\n",
       "      <td>980.873422</td>\n",
       "    </tr>\n",
       "    <tr>\n",
       "      <th>2017-01-04</th>\n",
       "      <td>861</td>\n",
       "      <td>65</td>\n",
       "      <td>1981</td>\n",
       "      <td>4.98</td>\n",
       "      <td>1021.949280</td>\n",
       "      <td>3300.0</td>\n",
       "      <td>188.0</td>\n",
       "      <td>7648.0</td>\n",
       "      <td>4.44</td>\n",
       "      <td>995.735134</td>\n",
       "    </tr>\n",
       "    <tr>\n",
       "      <th>2017-01-05</th>\n",
       "      <td>2554</td>\n",
       "      <td>218</td>\n",
       "      <td>5795</td>\n",
       "      <td>6.00</td>\n",
       "      <td>1052.192566</td>\n",
       "      <td>861.0</td>\n",
       "      <td>65.0</td>\n",
       "      <td>1981.0</td>\n",
       "      <td>4.98</td>\n",
       "      <td>1021.949280</td>\n",
       "    </tr>\n",
       "    <tr>\n",
       "      <th>2017-01-06</th>\n",
       "      <td>3082</td>\n",
       "      <td>246</td>\n",
       "      <td>8627</td>\n",
       "      <td>4.68</td>\n",
       "      <td>1062.803293</td>\n",
       "      <td>2554.0</td>\n",
       "      <td>218.0</td>\n",
       "      <td>5795.0</td>\n",
       "      <td>6.00</td>\n",
       "      <td>1052.192566</td>\n",
       "    </tr>\n",
       "  </tbody>\n",
       "</table>\n",
       "</div>"
      ],
      "text/plain": [
       "            Positive Count  Negative Count  Neutral Count  Search Interest  \\\n",
       "Date                                                                         \n",
       "2017-01-02            2918             201           6669             4.86   \n",
       "2017-01-03            3300             188           7648             4.44   \n",
       "2017-01-04             861              65           1981             4.98   \n",
       "2017-01-05            2554             218           5795             6.00   \n",
       "2017-01-06            3082             246           8627             4.68   \n",
       "\n",
       "            Roll Mean High Price  Positive Count(t-1)  Negative Count(t-1)  \\\n",
       "Date                                                                         \n",
       "2017-01-02            980.873422               1630.0                160.0   \n",
       "2017-01-03            995.735134               2918.0                201.0   \n",
       "2017-01-04           1021.949280               3300.0                188.0   \n",
       "2017-01-05           1052.192566                861.0                 65.0   \n",
       "2017-01-06           1062.803293               2554.0                218.0   \n",
       "\n",
       "            Neutral Count(t-1)  Search Interest(t-1)  \\\n",
       "Date                                                   \n",
       "2017-01-02              3410.0                  2.64   \n",
       "2017-01-03              6669.0                  4.86   \n",
       "2017-01-04              7648.0                  4.44   \n",
       "2017-01-05              1981.0                  4.98   \n",
       "2017-01-06              5795.0                  6.00   \n",
       "\n",
       "            Roll Mean High Price(t-1)  \n",
       "Date                                   \n",
       "2017-01-02                 963.986851  \n",
       "2017-01-03                 980.873422  \n",
       "2017-01-04                 995.735134  \n",
       "2017-01-05                1021.949280  \n",
       "2017-01-06                1052.192566  "
      ]
     },
     "execution_count": 66,
     "metadata": {},
     "output_type": "execute_result"
    }
   ],
   "source": [
    "final_df.head()"
   ]
  },
  {
   "cell_type": "code",
   "execution_count": 67,
   "metadata": {},
   "outputs": [],
   "source": [
    "final_df = final_df[['Positive Count(t-1)','Negative Count(t-1)','Neutral Count(t-1)','Search Interest(t-1)','Roll Mean High Price(t-1)','Roll Mean High Price']]"
   ]
  },
  {
   "cell_type": "code",
   "execution_count": 68,
   "metadata": {},
   "outputs": [
    {
     "data": {
      "text/html": [
       "<div>\n",
       "<style scoped>\n",
       "    .dataframe tbody tr th:only-of-type {\n",
       "        vertical-align: middle;\n",
       "    }\n",
       "\n",
       "    .dataframe tbody tr th {\n",
       "        vertical-align: top;\n",
       "    }\n",
       "\n",
       "    .dataframe thead th {\n",
       "        text-align: right;\n",
       "    }\n",
       "</style>\n",
       "<table border=\"1\" class=\"dataframe\">\n",
       "  <thead>\n",
       "    <tr style=\"text-align: right;\">\n",
       "      <th></th>\n",
       "      <th>Positive Count(t-1)</th>\n",
       "      <th>Negative Count(t-1)</th>\n",
       "      <th>Neutral Count(t-1)</th>\n",
       "      <th>Search Interest(t-1)</th>\n",
       "      <th>Roll Mean High Price(t-1)</th>\n",
       "      <th>Roll Mean High Price</th>\n",
       "    </tr>\n",
       "    <tr>\n",
       "      <th>Date</th>\n",
       "      <th></th>\n",
       "      <th></th>\n",
       "      <th></th>\n",
       "      <th></th>\n",
       "      <th></th>\n",
       "      <th></th>\n",
       "    </tr>\n",
       "  </thead>\n",
       "  <tbody>\n",
       "    <tr>\n",
       "      <th>2017-01-02</th>\n",
       "      <td>1630.0</td>\n",
       "      <td>160.0</td>\n",
       "      <td>3410.0</td>\n",
       "      <td>2.64</td>\n",
       "      <td>963.986851</td>\n",
       "      <td>980.873422</td>\n",
       "    </tr>\n",
       "    <tr>\n",
       "      <th>2017-01-03</th>\n",
       "      <td>2918.0</td>\n",
       "      <td>201.0</td>\n",
       "      <td>6669.0</td>\n",
       "      <td>4.86</td>\n",
       "      <td>980.873422</td>\n",
       "      <td>995.735134</td>\n",
       "    </tr>\n",
       "    <tr>\n",
       "      <th>2017-01-04</th>\n",
       "      <td>3300.0</td>\n",
       "      <td>188.0</td>\n",
       "      <td>7648.0</td>\n",
       "      <td>4.44</td>\n",
       "      <td>995.735134</td>\n",
       "      <td>1021.949280</td>\n",
       "    </tr>\n",
       "    <tr>\n",
       "      <th>2017-01-05</th>\n",
       "      <td>861.0</td>\n",
       "      <td>65.0</td>\n",
       "      <td>1981.0</td>\n",
       "      <td>4.98</td>\n",
       "      <td>1021.949280</td>\n",
       "      <td>1052.192566</td>\n",
       "    </tr>\n",
       "    <tr>\n",
       "      <th>2017-01-06</th>\n",
       "      <td>2554.0</td>\n",
       "      <td>218.0</td>\n",
       "      <td>5795.0</td>\n",
       "      <td>6.00</td>\n",
       "      <td>1052.192566</td>\n",
       "      <td>1062.803293</td>\n",
       "    </tr>\n",
       "  </tbody>\n",
       "</table>\n",
       "</div>"
      ],
      "text/plain": [
       "            Positive Count(t-1)  Negative Count(t-1)  Neutral Count(t-1)  \\\n",
       "Date                                                                       \n",
       "2017-01-02               1630.0                160.0              3410.0   \n",
       "2017-01-03               2918.0                201.0              6669.0   \n",
       "2017-01-04               3300.0                188.0              7648.0   \n",
       "2017-01-05                861.0                 65.0              1981.0   \n",
       "2017-01-06               2554.0                218.0              5795.0   \n",
       "\n",
       "            Search Interest(t-1)  Roll Mean High Price(t-1)  \\\n",
       "Date                                                          \n",
       "2017-01-02                  2.64                 963.986851   \n",
       "2017-01-03                  4.86                 980.873422   \n",
       "2017-01-04                  4.44                 995.735134   \n",
       "2017-01-05                  4.98                1021.949280   \n",
       "2017-01-06                  6.00                1052.192566   \n",
       "\n",
       "            Roll Mean High Price  \n",
       "Date                              \n",
       "2017-01-02            980.873422  \n",
       "2017-01-03            995.735134  \n",
       "2017-01-04           1021.949280  \n",
       "2017-01-05           1052.192566  \n",
       "2017-01-06           1062.803293  "
      ]
     },
     "execution_count": 68,
     "metadata": {},
     "output_type": "execute_result"
    }
   ],
   "source": [
    "final_df.head()"
   ]
  },
  {
   "cell_type": "code",
   "execution_count": 69,
   "metadata": {},
   "outputs": [
    {
     "name": "stderr",
     "output_type": "stream",
     "text": [
      "C:\\ProgramData\\Anaconda3\\envs\\research-test\\lib\\site-packages\\statsmodels\\tsa\\base\\tsa_model.py:524: ValueWarning: No frequency information was provided, so inferred frequency D will be used.\n",
      "  warnings.warn('No frequency information was'\n",
      "C:\\ProgramData\\Anaconda3\\envs\\research-test\\lib\\site-packages\\statsmodels\\tsa\\base\\tsa_model.py:524: ValueWarning: No frequency information was provided, so inferred frequency D will be used.\n",
      "  warnings.warn('No frequency information was'\n"
     ]
    }
   ],
   "source": [
    "sarimax_model = SARIMAX(final_df['Roll Mean High Price'],order=(1,1,1),seasonal_order=(1,1,1,4),exog=final_df['Positive Count(t-1)'])"
   ]
  },
  {
   "cell_type": "code",
   "execution_count": 70,
   "metadata": {},
   "outputs": [
    {
     "name": "stderr",
     "output_type": "stream",
     "text": [
      "C:\\ProgramData\\Anaconda3\\envs\\research-test\\lib\\site-packages\\statsmodels\\base\\model.py:566: ConvergenceWarning: Maximum Likelihood optimization failed to converge. Check mle_retvals\n",
      "  warnings.warn(\"Maximum Likelihood optimization failed to \"\n"
     ]
    }
   ],
   "source": [
    "res = sarimax_model.fit(disp=False)"
   ]
  },
  {
   "cell_type": "code",
   "execution_count": 71,
   "metadata": {},
   "outputs": [
    {
     "data": {
      "text/html": [
       "<table class=\"simpletable\">\n",
       "<caption>SARIMAX Results</caption>\n",
       "<tr>\n",
       "  <th>Dep. Variable:</th>       <td>Roll Mean High Price</td>      <th>  No. Observations:  </th>    <td>434</td>   \n",
       "</tr>\n",
       "<tr>\n",
       "  <th>Model:</th>           <td>SARIMAX(1, 1, 1)x(1, 1, 1, 4)</td> <th>  Log Likelihood     </th> <td>-2491.507</td>\n",
       "</tr>\n",
       "<tr>\n",
       "  <th>Date:</th>                  <td>Sun, 14 Mar 2021</td>        <th>  AIC                </th> <td>4995.013</td> \n",
       "</tr>\n",
       "<tr>\n",
       "  <th>Time:</th>                      <td>15:27:25</td>            <th>  BIC                </th> <td>5019.382</td> \n",
       "</tr>\n",
       "<tr>\n",
       "  <th>Sample:</th>                   <td>01-02-2017</td>           <th>  HQIC               </th> <td>5004.637</td> \n",
       "</tr>\n",
       "<tr>\n",
       "  <th></th>                         <td>- 03-11-2018</td>          <th>                     </th>     <td> </td>    \n",
       "</tr>\n",
       "<tr>\n",
       "  <th>Covariance Type:</th>              <td>opg</td>              <th>                     </th>     <td> </td>    \n",
       "</tr>\n",
       "</table>\n",
       "<table class=\"simpletable\">\n",
       "<tr>\n",
       "           <td></td>              <th>coef</th>     <th>std err</th>      <th>z</th>      <th>P>|z|</th>  <th>[0.025</th>    <th>0.975]</th>  \n",
       "</tr>\n",
       "<tr>\n",
       "  <th>Positive Count(t-1)</th> <td>   -0.0026</td> <td>    0.001</td> <td>   -4.614</td> <td> 0.000</td> <td>   -0.004</td> <td>   -0.001</td>\n",
       "</tr>\n",
       "<tr>\n",
       "  <th>ar.L1</th>               <td>    0.7751</td> <td>    0.020</td> <td>   37.835</td> <td> 0.000</td> <td>    0.735</td> <td>    0.815</td>\n",
       "</tr>\n",
       "<tr>\n",
       "  <th>ma.L1</th>               <td>    0.4198</td> <td>    0.031</td> <td>   13.421</td> <td> 0.000</td> <td>    0.358</td> <td>    0.481</td>\n",
       "</tr>\n",
       "<tr>\n",
       "  <th>ar.S.L4</th>             <td>    0.1823</td> <td>    0.027</td> <td>    6.804</td> <td> 0.000</td> <td>    0.130</td> <td>    0.235</td>\n",
       "</tr>\n",
       "<tr>\n",
       "  <th>ma.S.L4</th>             <td>   -1.0000</td> <td>    0.030</td> <td>  -33.704</td> <td> 0.000</td> <td>   -1.058</td> <td>   -0.942</td>\n",
       "</tr>\n",
       "<tr>\n",
       "  <th>sigma2</th>              <td> 6219.0869</td> <td> 4.78e-06</td> <td>  1.3e+09</td> <td> 0.000</td> <td> 6219.087</td> <td> 6219.087</td>\n",
       "</tr>\n",
       "</table>\n",
       "<table class=\"simpletable\">\n",
       "<tr>\n",
       "  <th>Ljung-Box (L1) (Q):</th>      <td>0.37</td>  <th>  Jarque-Bera (JB):  </th> <td>3120.61</td>\n",
       "</tr>\n",
       "<tr>\n",
       "  <th>Prob(Q):</th>                 <td>0.54</td>  <th>  Prob(JB):          </th>  <td>0.00</td>  \n",
       "</tr>\n",
       "<tr>\n",
       "  <th>Heteroskedasticity (H):</th> <td>140.29</td> <th>  Skew:              </th>  <td>0.43</td>  \n",
       "</tr>\n",
       "<tr>\n",
       "  <th>Prob(H) (two-sided):</th>     <td>0.00</td>  <th>  Kurtosis:          </th>  <td>16.18</td> \n",
       "</tr>\n",
       "</table><br/><br/>Warnings:<br/>[1] Covariance matrix calculated using the outer product of gradients (complex-step).<br/>[2] Covariance matrix is singular or near-singular, with condition number 2.93e+23. Standard errors may be unstable."
      ],
      "text/plain": [
       "<class 'statsmodels.iolib.summary.Summary'>\n",
       "\"\"\"\n",
       "                                     SARIMAX Results                                     \n",
       "=========================================================================================\n",
       "Dep. Variable:              Roll Mean High Price   No. Observations:                  434\n",
       "Model:             SARIMAX(1, 1, 1)x(1, 1, 1, 4)   Log Likelihood               -2491.507\n",
       "Date:                           Sun, 14 Mar 2021   AIC                           4995.013\n",
       "Time:                                   15:27:25   BIC                           5019.382\n",
       "Sample:                               01-02-2017   HQIC                          5004.637\n",
       "                                    - 03-11-2018                                         \n",
       "Covariance Type:                             opg                                         \n",
       "=======================================================================================\n",
       "                          coef    std err          z      P>|z|      [0.025      0.975]\n",
       "---------------------------------------------------------------------------------------\n",
       "Positive Count(t-1)    -0.0026      0.001     -4.614      0.000      -0.004      -0.001\n",
       "ar.L1                   0.7751      0.020     37.835      0.000       0.735       0.815\n",
       "ma.L1                   0.4198      0.031     13.421      0.000       0.358       0.481\n",
       "ar.S.L4                 0.1823      0.027      6.804      0.000       0.130       0.235\n",
       "ma.S.L4                -1.0000      0.030    -33.704      0.000      -1.058      -0.942\n",
       "sigma2               6219.0869   4.78e-06    1.3e+09      0.000    6219.087    6219.087\n",
       "===================================================================================\n",
       "Ljung-Box (L1) (Q):                   0.37   Jarque-Bera (JB):              3120.61\n",
       "Prob(Q):                              0.54   Prob(JB):                         0.00\n",
       "Heteroskedasticity (H):             140.29   Skew:                             0.43\n",
       "Prob(H) (two-sided):                  0.00   Kurtosis:                        16.18\n",
       "===================================================================================\n",
       "\n",
       "Warnings:\n",
       "[1] Covariance matrix calculated using the outer product of gradients (complex-step).\n",
       "[2] Covariance matrix is singular or near-singular, with condition number 2.93e+23. Standard errors may be unstable.\n",
       "\"\"\""
      ]
     },
     "execution_count": 71,
     "metadata": {},
     "output_type": "execute_result"
    }
   ],
   "source": [
    "res.summary()"
   ]
  },
  {
   "cell_type": "code",
   "execution_count": 72,
   "metadata": {},
   "outputs": [
    {
     "data": {
      "image/png": "[encoded data removed]",
      "text/plain": [
       "<Figure size 1152x576 with 4 Axes>"
      ]
     },
     "metadata": {
      "needs_background": "light"
     },
     "output_type": "display_data"
    }
   ],
   "source": [
    "res.plot_diagnostics(figsize=(16,8))\n",
    "plt.show()"
   ]
  },
  {
   "cell_type": "code",
   "execution_count": 73,
   "metadata": {},
   "outputs": [],
   "source": [
    "forecast = res.get_prediction(start=pd.to_datetime('2018-02-06'),dyanmic=False)\n",
    "predictions = forecast.predicted_mean"
   ]
  },
  {
   "cell_type": "code",
   "execution_count": 74,
   "metadata": {},
   "outputs": [],
   "source": [
    "tr_start,tr_end = '2017-01-01','2017-02-05'\n",
    "te_start,te_end = '2018-02-06','2018-03-11'\n",
    "tra = final_df['Roll Mean High Price'][tr_start:tr_end].dropna()\n",
    "tes = final_df['Roll Mean High Price'][te_start:te_end].dropna()"
   ]
  },
  {
   "cell_type": "code",
   "execution_count": 75,
   "metadata": {},
   "outputs": [
    {
     "data": {
      "text/plain": [
       "2018-02-06     9285.974786\n",
       "2018-02-07     8857.757684\n",
       "2018-02-08     8790.978857\n",
       "2018-02-09     8513.797007\n",
       "2018-02-10     8705.610451\n",
       "2018-02-11     8590.603598\n",
       "2018-02-12     8423.383993\n",
       "2018-02-13     8825.031923\n",
       "2018-02-14     8879.237992\n",
       "2018-02-15     9057.168306\n",
       "2018-02-16     9413.817799\n",
       "2018-02-17     9608.129682\n",
       "2018-02-18     9937.744813\n",
       "2018-02-19    10462.037144\n",
       "2018-02-20    10639.383397\n",
       "2018-02-21    11258.199913\n",
       "2018-02-22    11295.892381\n",
       "2018-02-23    11273.680515\n",
       "2018-02-24    11264.415025\n",
       "2018-02-25    11064.662577\n",
       "2018-02-26    10734.999455\n",
       "2018-02-27    10794.634554\n",
       "2018-02-28    10495.860581\n",
       "2018-03-01    10644.141237\n",
       "2018-03-02    10677.527289\n",
       "2018-03-03    10826.435607\n",
       "2018-03-04    11009.317698\n",
       "2018-03-05    11352.406455\n",
       "2018-03-06    11393.196698\n",
       "2018-03-07    11445.094582\n",
       "2018-03-08    11304.482178\n",
       "2018-03-09    11107.764343\n",
       "2018-03-10    10694.098951\n",
       "2018-03-11    10454.375170\n",
       "Freq: D, Name: predicted_mean, dtype: float64"
      ]
     },
     "execution_count": 75,
     "metadata": {},
     "output_type": "execute_result"
    }
   ],
   "source": [
    "predictions"
   ]
  },
  {
   "cell_type": "code",
   "execution_count": 76,
   "metadata": {},
   "outputs": [
    {
     "data": {
      "text/plain": [
       "Date\n",
       "2018-02-06     9256.262835\n",
       "2018-02-07     8988.764369\n",
       "2018-02-08     8741.617187\n",
       "2018-02-09     8683.717215\n",
       "2018-02-10     8639.688616\n",
       "2018-02-11     8537.011440\n",
       "2018-02-12     8625.737165\n",
       "2018-02-13     8783.989956\n",
       "2018-02-14     8928.194197\n",
       "2018-02-15     9167.627093\n",
       "2018-02-16     9394.358399\n",
       "2018-02-17     9682.494141\n",
       "2018-02-18    10073.018415\n",
       "2018-02-19    10399.858399\n",
       "2018-02-20    10828.434152\n",
       "2018-02-21    11099.857003\n",
       "2018-02-22    11214.756975\n",
       "2018-02-23    11238.071289\n",
       "2018-02-24    11160.599888\n",
       "2018-02-25    10956.802734\n",
       "2018-02-26    10842.688477\n",
       "2018-02-27    10688.402762\n",
       "2018-02-28    10641.445592\n",
       "2018-03-01    10643.331334\n",
       "2018-03-02    10743.574219\n",
       "2018-03-03    10876.574219\n",
       "2018-03-04    11103.628488\n",
       "2018-03-05    11279.214146\n",
       "2018-03-06    11368.014090\n",
       "2018-03-07    11345.114118\n",
       "2018-03-08    11215.842773\n",
       "2018-03-09    10969.749860\n",
       "2018-03-10    10684.481306\n",
       "2018-03-11    10427.237026\n",
       "Name: Roll Mean High Price, dtype: float64"
      ]
     },
     "execution_count": 76,
     "metadata": {},
     "output_type": "execute_result"
    }
   ],
   "source": [
    "tes"
   ]
  },
  {
   "cell_type": "code",
   "execution_count": 77,
   "metadata": {},
   "outputs": [],
   "source": [
    "actual = tes"
   ]
  },
  {
   "cell_type": "code",
   "execution_count": 78,
   "metadata": {},
   "outputs": [],
   "source": [
    "act,pre = np.array(actual), np.array(predictions)\n",
    "rmse = np.sqrt((pre-act) ** 2 ).mean()"
   ]
  },
  {
   "cell_type": "code",
   "execution_count": 79,
   "metadata": {},
   "outputs": [
    {
     "data": {
      "text/plain": [
       "array([ 9256.26283471,  8988.76436943,  8741.61718743,  8683.71721543,\n",
       "        8639.68861614,  8537.01143986,  8625.73716529,  8783.98995557,\n",
       "        8928.19419657,  9167.62709286,  9394.35839857,  9682.49414071,\n",
       "       10073.01841529, 10399.85839857, 10828.43415186, 11099.85700343,\n",
       "       11214.75697543, 11238.07128914, 11160.59988843, 10956.80273443,\n",
       "       10842.68847657, 10688.40276229, 10641.44559157, 10643.33133386,\n",
       "       10743.57421886, 10876.57421886, 11103.62848771, 11279.21414614,\n",
       "       11368.01409029, 11345.11411814, 11215.84277329, 10969.74986029,\n",
       "       10684.48130571, 10427.23702557])"
      ]
     },
     "execution_count": 79,
     "metadata": {},
     "output_type": "execute_result"
    }
   ],
   "source": [
    "act"
   ]
  },
  {
   "cell_type": "code",
   "execution_count": 80,
   "metadata": {},
   "outputs": [
    {
     "data": {
      "text/plain": [
       "85.35268341938557"
      ]
     },
     "execution_count": 80,
     "metadata": {},
     "output_type": "execute_result"
    }
   ],
   "source": [
    "rmse"
   ]
  },
  {
   "cell_type": "code",
   "execution_count": 81,
   "metadata": {},
   "outputs": [
    {
     "name": "stdout",
     "output_type": "stream",
     "text": [
      "Test RMSE: 99.487\n"
     ]
    }
   ],
   "source": [
    "rmse = sqrt(mean_squared_error(actual,predictions))\n",
    "print('Test RMSE: %.3f' % rmse)"
   ]
  },
  {
   "cell_type": "code",
   "execution_count": 82,
   "metadata": {},
   "outputs": [],
   "source": [
    "def mape(actual, pred): \n",
    "    actual, pred = np.array(actual), np.array(pred)\n",
    "    return np.mean(np.abs((actual - pred) / actual)) * 100"
   ]
  },
  {
   "cell_type": "code",
   "execution_count": 83,
   "metadata": {},
   "outputs": [
    {
     "name": "stdout",
     "output_type": "stream",
     "text": [
      "MAE :  0.845254981276324\n"
     ]
    }
   ],
   "source": [
    "error_percentage = mape(actual,predictions)\n",
    "print('MAE : ',error_percentage)"
   ]
  },
  {
   "cell_type": "code",
   "execution_count": 84,
   "metadata": {},
   "outputs": [
    {
     "data": {
      "text/plain": [
       "array([ 9256.26283471,  8988.76436943,  8741.61718743,  8683.71721543,\n",
       "        8639.68861614,  8537.01143986,  8625.73716529,  8783.98995557,\n",
       "        8928.19419657,  9167.62709286,  9394.35839857,  9682.49414071,\n",
       "       10073.01841529, 10399.85839857, 10828.43415186, 11099.85700343,\n",
       "       11214.75697543, 11238.07128914, 11160.59988843, 10956.80273443,\n",
       "       10842.68847657, 10688.40276229, 10641.44559157, 10643.33133386,\n",
       "       10743.57421886, 10876.57421886, 11103.62848771, 11279.21414614,\n",
       "       11368.01409029, 11345.11411814, 11215.84277329, 10969.74986029,\n",
       "       10684.48130571, 10427.23702557])"
      ]
     },
     "execution_count": 84,
     "metadata": {},
     "output_type": "execute_result"
    }
   ],
   "source": [
    "np.array(actual)"
   ]
  },
  {
   "cell_type": "code",
   "execution_count": 85,
   "metadata": {},
   "outputs": [
    {
     "name": "stdout",
     "output_type": "stream",
     "text": [
      "MAE :  85.35268341938557\n"
     ]
    }
   ],
   "source": [
    "from sklearn.metrics import mean_absolute_error\n",
    "error_percentage = mean_absolute_error(actual,predictions)\n",
    "print('MAE : ',error_percentage)"
   ]
  },
  {
   "cell_type": "code",
   "execution_count": 86,
   "metadata": {},
   "outputs": [
    {
     "data": {
      "text/plain": [
       "[<matplotlib.lines.Line2D at 0x196a2cd3d00>]"
      ]
     },
     "execution_count": 86,
     "metadata": {},
     "output_type": "execute_result"
    },
    {
     "data": {
      "image/png": "[encoded data removed]",
      "text/plain": [
       "<Figure size 432x288 with 1 Axes>"
      ]
     },
     "metadata": {
      "needs_background": "light"
     },
     "output_type": "display_data"
    }
   ],
   "source": [
    "plt.plot(predictions)"
   ]
  },
  {
   "cell_type": "code",
   "execution_count": 87,
   "metadata": {},
   "outputs": [
    {
     "data": {
      "text/plain": [
       "DatetimeIndex(['2018-02-06', '2018-02-07', '2018-02-08', '2018-02-09',\n",
       "               '2018-02-10', '2018-02-11', '2018-02-12', '2018-02-13',\n",
       "               '2018-02-14', '2018-02-15', '2018-02-16', '2018-02-17',\n",
       "               '2018-02-18', '2018-02-19', '2018-02-20', '2018-02-21',\n",
       "               '2018-02-22', '2018-02-23', '2018-02-24', '2018-02-25',\n",
       "               '2018-02-26', '2018-02-27', '2018-02-28', '2018-03-01',\n",
       "               '2018-03-02', '2018-03-03', '2018-03-04', '2018-03-05',\n",
       "               '2018-03-06', '2018-03-07', '2018-03-08', '2018-03-09',\n",
       "               '2018-03-10', '2018-03-11'],\n",
       "              dtype='datetime64[ns]', freq='D')"
      ]
     },
     "execution_count": 87,
     "metadata": {},
     "output_type": "execute_result"
    }
   ],
   "source": [
    "predictions.index"
   ]
  },
  {
   "cell_type": "code",
   "execution_count": 88,
   "metadata": {},
   "outputs": [
    {
     "data": {
      "image/png": "[encoded data removed]",
      "text/plain": [
       "<Figure size 432x288 with 1 Axes>"
      ]
     },
     "metadata": {
      "needs_background": "light"
     },
     "output_type": "display_data"
    }
   ],
   "source": [
    "# line 1 points\n",
    "x1 = predictions.index #[10,20,30]\n",
    "y1 = act #[20,40,10]\n",
    "# plotting the line 1 points \n",
    "plt.plot(x1, y1, label = \"Actual Price\")\n",
    "# line 2 points\n",
    "x2 = predictions.index #[10,20,30]\n",
    "y2 = pre #[40,10,30]\n",
    "# plotting the line 2 points \n",
    "plt.plot(x2, y2, label = \"Predicted Price\")\n",
    "plt.xlabel('Date')\n",
    "# Set the y axis label of the current axis.\n",
    "plt.ylabel('Bitcoin Price')\n",
    "# Set a title of the current axes.\n",
    "plt.title('Actual vs Predicted Price')\n",
    "# show a legend on the plot\n",
    "plt.legend()\n",
    "# Display a figure.\n",
    "plt.show()"
   ]
  },
  {
   "cell_type": "code",
   "execution_count": 89,
   "metadata": {},
   "outputs": [],
   "source": [
    "mae = mean_absolute_error(actual,predictions)"
   ]
  },
  {
   "cell_type": "code",
   "execution_count": 90,
   "metadata": {},
   "outputs": [
    {
     "data": {
      "text/plain": [
       "85.35268341938557"
      ]
     },
     "execution_count": 90,
     "metadata": {},
     "output_type": "execute_result"
    }
   ],
   "source": [
    "mae"
   ]
  },
  {
   "cell_type": "code",
   "execution_count": null,
   "metadata": {},
   "outputs": [],
   "source": []
  }
 ],
 "metadata": {
  "kernelspec": {
   "display_name": "Python 3",
   "language": "python",
   "name": "python3"
  },
  "language_info": {
   "codemirror_mode": {
    "name": "ipython",
    "version": 3
   },
   "file_extension": ".py",
   "mimetype": "text/x-python",
   "name": "python",
   "nbconvert_exporter": "python",
   "pygments_lexer": "ipython3",
   "version": "3.8.8"
  }
 },
 "nbformat": 4,
 "nbformat_minor": 4
}
